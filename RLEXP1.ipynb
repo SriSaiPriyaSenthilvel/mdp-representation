{
  "nbformat": 4,
  "nbformat_minor": 0,
  "metadata": {
    "colab": {
      "provenance": []
    },
    "kernelspec": {
      "name": "python3",
      "display_name": "Python 3"
    },
    "language_info": {
      "name": "python"
    }
  },
  "cells": [
    {
      "cell_type": "code",
      "execution_count": 1,
      "metadata": {
        "id": "iY-vQkkRqjbF"
      },
      "outputs": [],
      "source": [
        "p = {\n",
        "    0: {  #GROUND FLOOR\n",
        "        0:[(0.9,0,-1.0,False),(0.1,1,-1.0,False)],\n",
        "        1:[(0.9,1,-1.0,False),(0.1,0,-1.0,False)]\n",
        "    },\n",
        "    1: { #FIRST FLOOR\n",
        "        0:[(0.9,0,-1.0,False),(0.1,1,-1.0,False)],\n",
        "        1:[(0.9,2,+10.0,True),(0.1,1,-1.0,False)]\n",
        "    },\n",
        "    2: { #SECOND FLOOR\n",
        "        0:[(0.9,1,-1.0,False),(0.1,2,+10.0,True)],\n",
        "        1:[(0.9,2,+10.0,True),(0.1,1,-1.0,False)]\n",
        "    }\n",
        "}"
      ]
    },
    {
      "cell_type": "code",
      "source": [
        "print('SRI SAI PRIYA S  212222240103')\n",
        "p\n"
      ],
      "metadata": {
        "colab": {
          "base_uri": "https://localhost:8080/"
        },
        "id": "en_ldRuQq0u3",
        "outputId": "8360f265-83b1-48eb-db79-d1409d52c486"
      },
      "execution_count": 2,
      "outputs": [
        {
          "output_type": "stream",
          "name": "stdout",
          "text": [
            "SRI SAI PRIYA S  212222240103\n"
          ]
        },
        {
          "output_type": "execute_result",
          "data": {
            "text/plain": [
              "{0: {0: [(0.9, 0, -1.0, False), (0.1, 1, -1.0, False)],\n",
              "  1: [(0.9, 1, -1.0, False), (0.1, 0, -1.0, False)]},\n",
              " 1: {0: [(0.9, 0, -1.0, False), (0.1, 1, -1.0, False)],\n",
              "  1: [(0.9, 2, 10.0, True), (0.1, 1, -1.0, False)]},\n",
              " 2: {0: [(0.9, 1, -1.0, False), (0.1, 2, 10.0, True)],\n",
              "  1: [(0.9, 2, 10.0, True), (0.1, 1, -1.0, False)]}}"
            ]
          },
          "metadata": {},
          "execution_count": 2
        }
      ]
    }
  ]
}